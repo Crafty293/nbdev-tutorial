


#| default_exp first


#| hide
from nbdev.showdoc import *
from fastcore.test import *


#| export 
def say_hello(to):
    "Say hello to somebody hhhh?S"
    return f'Hello {to}!'


#| export 
class HelloSayer:
    "Say hello to `to` using `say_hello`"
    def __init__(self,to): self.to = to

    def say(self):
        "Do the saying"
        return say_hello(self.to)


#| hide
test_eq(say_hello("Hamel"),"Hello Hamel!")


#| hide

import nbdev; nbdev.nbdev_export()






